{
 "cells": [
  {
   "cell_type": "markdown",
   "id": "15c2148f-c1b0-46e0-87f6-2db29e13d5b8",
   "metadata": {},
   "source": [
    "## Masked Autoencoders: Visualization Demo\n",
    "\n",
    "This is a visualization demo using our pre-trained MAE models. No GPU is needed."
   ]
  },
  {
   "cell_type": "markdown",
   "id": "fffa39c9-ca9b-4da0-90a4-de96bebbf755",
   "metadata": {},
   "source": [
    "### Prepare\n",
    "Check environment. Install packages if in Colab.\n"
   ]
  },
  {
   "cell_type": "code",
   "execution_count": null,
   "id": "1eae7403-f458-4f55-a557-4e045bd6f679",
   "metadata": {},
   "outputs": [],
   "source": [
    "import sys\n",
    "import os\n",
    "import requests\n",
    "\n",
    "import torch\n",
    "import numpy as np\n",
    "\n",
    "import matplotlib.pyplot as plt\n",
    "from PIL import Image\n",
    "\n",
    "# check whether run in Colab\n",
    "if 'google.colab' in sys.modules:\n",
    "    print('Running in Colab.')\n",
    "    !pip3 install timm==0.4.5  # 0.3.2 does not work in Colab\n",
    "    !git clone https://github.com/facebookresearch/mae.git\n",
    "    sys.path.append('./mae')\n",
    "else:\n",
    "    sys.path.append('..')\n",
    "import models_mae"
   ]
  },
  {
   "cell_type": "markdown",
   "id": "2f7797ef-412a-439f-911e-3be294047629",
   "metadata": {},
   "source": [
    "### Define utils"
   ]
  },
  {
   "cell_type": "code",
   "execution_count": null,
   "id": "4573e6be-935a-4106-8c06-e467552b0e3d",
   "metadata": {},
   "outputs": [],
   "source": [
    "# define the utils\n",
    "\n",
    "imagenet_mean = np.array([0.485, 0.456, 0.406])\n",
    "imagenet_std = np.array([0.229, 0.224, 0.225])\n",
    "\n",
    "def show_image(image, title=''):\n",
    "    # image is [H, W, 3]\n",
    "    assert image.shape[2] == 3\n",
    "    plt.imshow(torch.clip((image * imagenet_std + imagenet_mean) * 255, 0, 255).int())\n",
    "    plt.title(title, fontsize=16)\n",
    "    plt.axis('off')\n",
    "    return\n",
    "\n",
    "def prepare_model(chkpt_dir, arch='mae_vit_large_patch16'):\n",
    "    # build model\n",
    "    model = getattr(models_mae, arch)()\n",
    "    # load model\n",
    "    checkpoint = torch.load(chkpt_dir, map_location='cpu')\n",
    "    msg = model.load_state_dict(checkpoint['model'], strict=False)\n",
    "    print(msg)\n",
    "    return model\n",
    "\n",
    "def run_one_image(img, model, masking_type, **masking_args):\n",
    "    x = torch.tensor(img)\n",
    "\n",
    "    # make it a batch-like\n",
    "    x = x.unsqueeze(dim=0)\n",
    "    x = torch.einsum('nhwc->nchw', x)\n",
    "\n",
    "    # run MAE\n",
    "    loss, y, mask = model(x.float(), masking_type=masking_type, **masking_args)\n",
    "    psnr = 10 * torch.log10(1 / loss)\n",
    "    print(f\"Loss: {loss.item():.2f}, PSNR: {psnr.item():.2f}\")\n",
    "\n",
    "    y = model.unpatchify(y)\n",
    "    y = torch.einsum('nchw->nhwc', y).detach().cpu()\n",
    "\n",
    "    # visualize the mask\n",
    "    mask = mask.detach()\n",
    "    mask = mask.unsqueeze(-1).repeat(1, 1, model.patch_embed.patch_size[0]**2 *3)  # (N, H*W, p*p*3)\n",
    "    mask = model.unpatchify(mask)  # 1 is removing, 0 is keeping\n",
    "    mask = torch.einsum('nchw->nhwc', mask).detach().cpu()\n",
    "    \n",
    "    x = torch.einsum('nchw->nhwc', x)\n",
    "\n",
    "    # masked image\n",
    "    im_masked = x * (1 - mask)\n",
    "\n",
    "    # MAE reconstruction pasted with visible patches\n",
    "    im_paste = x * (1 - mask) + y * mask\n",
    "\n",
    "    # make the plt figure larger\n",
    "    plt.rcParams['figure.figsize'] = [24, 24]\n",
    "\n",
    "    plt.subplot(1, 4, 1)\n",
    "    show_image(x[0], \"original\")\n",
    "\n",
    "    plt.subplot(1, 4, 2)\n",
    "    show_image(im_masked[0], \"masked\")\n",
    "\n",
    "    plt.subplot(1, 4, 3)\n",
    "    show_image(y[0], \"reconstruction\")\n",
    "\n",
    "    plt.subplot(1, 4, 4)\n",
    "    show_image(im_paste[0], \"reconstruction + visible\")\n",
    "\n",
    "    plt.show()"
   ]
  },
  {
   "cell_type": "markdown",
   "id": "a92a06e7-3b6d-4c33-9eb2-15e560a4ce42",
   "metadata": {},
   "source": [
    "### Load an image"
   ]
  },
  {
   "cell_type": "code",
   "execution_count": null,
   "id": "27755296-05cc-4344-90de-a8ab3878f485",
   "metadata": {},
   "outputs": [],
   "source": [
    "# load an image\n",
    "img_url = 'https://user-images.githubusercontent.com/11435359/147738734-196fd92f-9260-48d5-ba7e-bf103d29364d.jpg' # fox, from ILSVRC2012_val_00046145\n",
    "# img_url = 'https://user-images.githubusercontent.com/11435359/147743081-0428eecf-89e5-4e07-8da5-a30fd73cc0ba.jpg' # cucumber, from ILSVRC2012_val_00047851\n",
    "# img_url = 'https://www.travelandleisure.com/thmb/h97kSvljd2QYH2nUy3Y9ZNgO_pw=/1500x0/filters:no_upscale():max_bytes(150000):strip_icc()/plane-data-BUSYROUTES1217-f4f84b08d47f4951b11c148cee2c3dea.jpg'\n",
    "# img_url = 'https://www.dailypaws.com/thmb/ZHs0nxwPjwixC4YkqyRcO9DB2bg=/1500x0/filters:no_upscale():max_bytes(150000):strip_icc()/striped-cat-playing-flower-552781357-2000-f8b1f07162594830bdba8a24e2268ad6.jpg'\n",
    "# img_url = 'https://cv.cs.columbia.edu/sachit/classviadescr/static/datasets/ImageNet-ILSVRC2012/val/n01443537/ILSVRC2012_val_00018075.JPEG'\n",
    "\n",
    "# img_path = \"/media/ingo/539ea23b-a9e6-475b-993c-4f8f7eab2ac0/imagenet-mini/train/n04592741/n04592741_12494.JPEG\"\n",
    "# img_path = \"/media/ingo/539ea23b-a9e6-475b-993c-4f8f7eab2ac0/imagenet-mini/train/n03764736/n03764736_7851.JPEG\"\n",
    "\n",
    "img = Image.open(requests.get(img_url, stream=True).raw)\n",
    "# img = Image.open(img_path)\n",
    "img = img.resize((224, 224))\n",
    "img = np.array(img) / 255.\n",
    "\n",
    "assert img.shape == (224, 224, 3)\n",
    "\n",
    "# normalize by ImageNet mean and std\n",
    "img = img - imagenet_mean\n",
    "img = img / imagenet_std\n",
    "\n",
    "plt.rcParams['figure.figsize'] = [5, 5]\n",
    "show_image(torch.tensor(img))"
   ]
  },
  {
   "cell_type": "markdown",
   "id": "8b7e691d-93d2-439f-91d6-c22716a897b5",
   "metadata": {},
   "source": [
    "### Load a pre-trained MAE model"
   ]
  },
  {
   "cell_type": "code",
   "execution_count": null,
   "id": "fd2d7da9-f75c-4b27-a84b-6d1247f73a7d",
   "metadata": {},
   "outputs": [],
   "source": [
    "# This is an MAE model trained with pixels as targets for visualization (ViT-Large, training mask ratio=0.75)\n",
    "\n",
    "# download checkpoint if not exist\n",
    "# !wget -nc https://dl.fbaipublicfiles.com/mae/visualize/mae_visualize_vit_large.pth\n",
    "\n",
    "# chkpt_dir = '../mae_visualize_vit_large.pth'\n",
    "# chkpt_dir = '../jobs/20240707032625/outputs/checkpoint-10.pth'\n",
    "# model_mae = prepare_model(chkpt_dir, 'mae_vit_large_patch16')\n",
    "# model_mae = prepare_model(chkpt_dir, 'mae_vit_base_patch16')\n",
    "# print('Model loaded.')\n"
   ]
  },
  {
   "cell_type": "markdown",
   "id": "7d15a0a7-c093-439a-9a4d-c37ce0c0eaa6",
   "metadata": {},
   "source": [
    "### Run MAE on the image"
   ]
  },
  {
   "cell_type": "code",
   "execution_count": null,
   "id": "1b0eb444-e403-44a9-a370-ff2326f78f30",
   "metadata": {},
   "outputs": [],
   "source": [
    "# make random mask reproducible (comment out to make it change)\n",
    "# torch.manual_seed(2)\n",
    "\n",
    "masking_args = {\n",
    "    'masking_ratio': 0.75,\n",
    "    # 'reverse': True,\n",
    "}\n",
    "\n",
    "# chkpt_dir = '../mae_visualize_vit_large.pth'\n",
    "# model_mae = prepare_model(chkpt_dir, 'mae_vit_large_patch16')\n",
    "# run_one_image(img, model_mae, masking_type='entropy_masking_threshold', **masking_args)\n",
    "# run_one_image(img, model_mae, masking_type='random_masking', **masking_args)\n",
    "# run_one_image(img, model_mae, masking_type='entropy_masking', **masking_args)\n",
    "\n",
    "chkpt_dir = \"/home/ingo/Desktop/code_stuff/mae/jobs/20240820044336_entropy/outputs/checkpoint-399.pth\"\n",
    "chkpt_dir2 = \"/home/ingo/Desktop/code_stuff/mae/jobs/20240815093102_random/outputs/checkpoint-399.pth\"\n",
    "model_mae1 = prepare_model(chkpt_dir, 'mae_vit_base_patch16')\n",
    "model_mae2 = prepare_model(chkpt_dir2, 'mae_vit_base_patch16')\n",
    "\n",
    "run_one_image(img, model_mae1, masking_type='random_masking', **masking_args)\n",
    "run_one_image(img, model_mae2, masking_type='random_masking', **masking_args)\n",
    "\n",
    "run_one_image(img, model_mae1, masking_type='entropy_masking', **masking_args)\n",
    "run_one_image(img, model_mae2, masking_type='entropy_masking', **masking_args)\n"
   ]
  },
  {
   "cell_type": "markdown",
   "id": "11071935-0eb9-4dde-ba3c-5d2b4bbc9856",
   "metadata": {},
   "source": [
    "### Load another pre-trained MAE model"
   ]
  },
  {
   "cell_type": "code",
   "execution_count": null,
   "id": "9740c112-779f-4ee1-b24d-f293624e24ee",
   "metadata": {},
   "outputs": [],
   "source": [
    "# This is an MAE model trained with an extra GAN loss for more realistic generation (ViT-Large, training mask ratio=0.75)\n",
    "\n",
    "# download checkpoint if not exist\n",
    "# !wget -nc https://dl.fbaipublicfiles.com/mae/visualize/mae_visualize_vit_large_ganloss.pth\n",
    "\n",
    "chkpt_dir = '../mae_visualize_vit_large_ganloss.pth'\n",
    "model_mae_gan = prepare_model('../mae_visualize_vit_large_ganloss.pth', 'mae_vit_large_patch16')\n",
    "print('Model loaded.')"
   ]
  },
  {
   "cell_type": "markdown",
   "id": "2811cff9-a051-4883-ae5f-c8f8749cc055",
   "metadata": {},
   "source": [
    "### Run MAE on the image"
   ]
  },
  {
   "cell_type": "code",
   "execution_count": null,
   "id": "12251916-7bf0-4ee5-ba7d-3dea4441d0a4",
   "metadata": {},
   "outputs": [],
   "source": [
    "# make random mask reproducible (comment out to make it change)\n",
    "# torch.manual_seed(2)\n",
    "print('MAE with extra GAN loss:')\n",
    "run_one_image(img, model_mae_gan)"
   ]
  },
  {
   "cell_type": "code",
   "execution_count": null,
   "id": "df2c7e91-3981-44ae-a00e-1b26efa7aa5c",
   "metadata": {
    "tags": []
   },
   "outputs": [],
   "source": []
  }
 ],
 "metadata": {
  "kernelspec": {
   "display_name": "mae_env",
   "language": "python",
   "name": "python3"
  },
  "language_info": {
   "codemirror_mode": {
    "name": "ipython",
    "version": 3
   },
   "file_extension": ".py",
   "mimetype": "text/x-python",
   "name": "python",
   "nbconvert_exporter": "python",
   "pygments_lexer": "ipython3",
   "version": "3.9.20"
  }
 },
 "nbformat": 4,
 "nbformat_minor": 5
}
